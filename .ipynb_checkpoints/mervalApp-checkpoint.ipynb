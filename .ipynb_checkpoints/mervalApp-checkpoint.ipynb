{
 "cells": [
  {
   "cell_type": "code",
   "execution_count": 1,
   "metadata": {},
   "outputs": [
    {
     "name": "stderr",
     "output_type": "stream",
     "text": [
      "C:\\Users\\Lucas Choconi\\AppData\\Local\\Temp\\ipykernel_6096\\3956303840.py:9: UserWarning: \n",
      "The dash_core_components package is deprecated. Please replace\n",
      "`import dash_core_components as dcc` with `from dash import dcc`\n",
      "  import dash_core_components as dcc\n",
      "C:\\Users\\Lucas Choconi\\AppData\\Local\\Temp\\ipykernel_6096\\3956303840.py:10: UserWarning: \n",
      "The dash_html_components package is deprecated. Please replace\n",
      "`import dash_html_components as html` with `from dash import html`\n",
      "  import dash_html_components as html\n"
     ]
    }
   ],
   "source": [
    "import pandas as pd\n",
    "import yfinance as yf\n",
    "from datetime import date\n",
    "import datetime\n",
    "import plotly.express as px\n",
    "from dateutil.relativedelta import relativedelta\n",
    "from jupyter_dash import JupyterDash\n",
    "import dash\n",
    "import dash_core_components as dcc\n",
    "import dash_html_components as html\n",
    "import dash_bootstrap_components as dbc\n",
    "import plotly.express as px"
   ]
  },
  {
   "cell_type": "code",
   "execution_count": 2,
   "metadata": {},
   "outputs": [
    {
     "name": "stdout",
     "output_type": "stream",
     "text": [
      "2022-05-21 2023-05-21\n"
     ]
    }
   ],
   "source": [
    "dateToday = date.today()\n",
    "dateToday = datetime.datetime.strptime(str(dateToday),'%Y-%m-%d').strftime('%Y-%m-%d')\n",
    "fistDate = date.today()-relativedelta(years=1)\n",
    "fistDate = datetime.datetime.strptime(str(fistDate),'%Y-%m-%d').strftime('%Y-%m-%d')\n",
    "fixedTickers = ['ALUA.BA', 'BBAR.BA', 'BMA.BA', 'BYMA.BA', 'CEPU.BA', 'COME.BA', 'CRES.BA', 'EDN.BA', 'GGAL.BA', 'LOMA.BA', 'MIRG.BA',\n",
    "                'PAMP.BA', 'SUPV.BA', 'TECO2.BA', 'TGNO4.BA', 'TGSU2.BA', 'TRAN.BA', 'TXR.BA', 'VALO.BA', 'YPFD.BA', 'M.BA']\n",
    "\n",
    "print(fistDate, dateToday)"
   ]
  },
  {
   "cell_type": "code",
   "execution_count": 3,
   "metadata": {},
   "outputs": [
    {
     "name": "stdout",
     "output_type": "stream",
     "text": [
      "[*********************100%***********************]  2 of 2 completed\n"
     ]
    },
    {
     "data": {
      "text/html": [
       "<div>\n",
       "<style scoped>\n",
       "    .dataframe tbody tr th:only-of-type {\n",
       "        vertical-align: middle;\n",
       "    }\n",
       "\n",
       "    .dataframe tbody tr th {\n",
       "        vertical-align: top;\n",
       "    }\n",
       "\n",
       "    .dataframe thead th {\n",
       "        text-align: right;\n",
       "    }\n",
       "</style>\n",
       "<table border=\"1\" class=\"dataframe\">\n",
       "  <thead>\n",
       "    <tr style=\"text-align: right;\">\n",
       "      <th></th>\n",
       "      <th>Date</th>\n",
       "      <th>USD</th>\n",
       "    </tr>\n",
       "  </thead>\n",
       "  <tbody>\n",
       "    <tr>\n",
       "      <th>235</th>\n",
       "      <td>2023-05-18</td>\n",
       "      <td>476.712955</td>\n",
       "    </tr>\n",
       "    <tr>\n",
       "      <th>236</th>\n",
       "      <td>2023-05-19</td>\n",
       "      <td>474.224101</td>\n",
       "    </tr>\n",
       "  </tbody>\n",
       "</table>\n",
       "</div>"
      ],
      "text/plain": [
       "          Date         USD\n",
       "235 2023-05-18  476.712955\n",
       "236 2023-05-19  474.224101"
      ]
     },
     "metadata": {},
     "output_type": "display_data"
    }
   ],
   "source": [
    "dataGGAL = yf.download(['GGAL.BA', 'GGAL'], start=fistDate, end=dateToday)\n",
    "histCCL = dataGGAL[\"Adj Close\"].dropna()  \n",
    "histCCL = histCCL.reset_index() \n",
    "histCCL[\"USD\"] = histCCL[\"GGAL.BA\"]*10/histCCL[\"GGAL\"]\n",
    "histCCL = histCCL.drop(columns=['GGAL','GGAL.BA'])\n",
    "display ( histCCL.tail(2) )"
   ]
  },
  {
   "cell_type": "code",
   "execution_count": 4,
   "metadata": {},
   "outputs": [
    {
     "name": "stdout",
     "output_type": "stream",
     "text": [
      "[*********************100%***********************]  21 of 21 completed\n"
     ]
    },
    {
     "data": {
      "text/html": [
       "<div>\n",
       "<style scoped>\n",
       "    .dataframe tbody tr th:only-of-type {\n",
       "        vertical-align: middle;\n",
       "    }\n",
       "\n",
       "    .dataframe tbody tr th {\n",
       "        vertical-align: top;\n",
       "    }\n",
       "\n",
       "    .dataframe thead th {\n",
       "        text-align: right;\n",
       "    }\n",
       "</style>\n",
       "<table border=\"1\" class=\"dataframe\">\n",
       "  <thead>\n",
       "    <tr style=\"text-align: right;\">\n",
       "      <th></th>\n",
       "      <th>Date</th>\n",
       "      <th>Ticker</th>\n",
       "      <th>Close</th>\n",
       "    </tr>\n",
       "  </thead>\n",
       "  <tbody>\n",
       "    <tr>\n",
       "      <th>0</th>\n",
       "      <td>2022-05-23</td>\n",
       "      <td>ALUA.BA</td>\n",
       "      <td>83.454933</td>\n",
       "    </tr>\n",
       "    <tr>\n",
       "      <th>1</th>\n",
       "      <td>2022-05-24</td>\n",
       "      <td>ALUA.BA</td>\n",
       "      <td>84.383247</td>\n",
       "    </tr>\n",
       "    <tr>\n",
       "      <th>2</th>\n",
       "      <td>2022-05-26</td>\n",
       "      <td>ALUA.BA</td>\n",
       "      <td>85.775703</td>\n",
       "    </tr>\n",
       "    <tr>\n",
       "      <th>3</th>\n",
       "      <td>2022-05-27</td>\n",
       "      <td>ALUA.BA</td>\n",
       "      <td>85.682877</td>\n",
       "    </tr>\n",
       "    <tr>\n",
       "      <th>4</th>\n",
       "      <td>2022-05-30</td>\n",
       "      <td>ALUA.BA</td>\n",
       "      <td>85.961365</td>\n",
       "    </tr>\n",
       "  </tbody>\n",
       "</table>\n",
       "</div>"
      ],
      "text/plain": [
       "        Date   Ticker      Close\n",
       "0 2022-05-23  ALUA.BA  83.454933\n",
       "1 2022-05-24  ALUA.BA  84.383247\n",
       "2 2022-05-26  ALUA.BA  85.775703\n",
       "3 2022-05-27  ALUA.BA  85.682877\n",
       "4 2022-05-30  ALUA.BA  85.961365"
      ]
     },
     "execution_count": 4,
     "metadata": {},
     "output_type": "execute_result"
    }
   ],
   "source": [
    "\n",
    "dataPanelLider = yf.download(fixedTickers, start=fistDate, end=dateToday)\n",
    "dataMerval = dataPanelLider[\"Adj Close\"].dropna() \n",
    "dataMerval['Index'] = range(1, len(dataMerval)+1)\n",
    "dataMerval = dataMerval.reset_index()\n",
    "dataMerval = pd.melt(dataMerval, id_vars='Date',\n",
    "                        var_name='Ticker', value_name='Close')\n",
    "dataMerval.head()"
   ]
  },
  {
   "cell_type": "code",
   "execution_count": 5,
   "metadata": {},
   "outputs": [
    {
     "data": {
      "text/html": [
       "<div>\n",
       "<style scoped>\n",
       "    .dataframe tbody tr th:only-of-type {\n",
       "        vertical-align: middle;\n",
       "    }\n",
       "\n",
       "    .dataframe tbody tr th {\n",
       "        vertical-align: top;\n",
       "    }\n",
       "\n",
       "    .dataframe thead th {\n",
       "        text-align: right;\n",
       "    }\n",
       "</style>\n",
       "<table border=\"1\" class=\"dataframe\">\n",
       "  <thead>\n",
       "    <tr style=\"text-align: right;\">\n",
       "      <th></th>\n",
       "      <th>Date</th>\n",
       "      <th>USD</th>\n",
       "      <th>Ticker</th>\n",
       "      <th>Close</th>\n",
       "      <th>Close USD</th>\n",
       "    </tr>\n",
       "  </thead>\n",
       "  <tbody>\n",
       "    <tr>\n",
       "      <th>5167</th>\n",
       "      <td>2023-05-19</td>\n",
       "      <td>474.224101</td>\n",
       "      <td>TRAN.BA</td>\n",
       "      <td>304.500000</td>\n",
       "      <td>0.642101</td>\n",
       "    </tr>\n",
       "    <tr>\n",
       "      <th>5168</th>\n",
       "      <td>2023-05-19</td>\n",
       "      <td>474.224101</td>\n",
       "      <td>TXR.BA</td>\n",
       "      <td>9776.500000</td>\n",
       "      <td>20.615781</td>\n",
       "    </tr>\n",
       "    <tr>\n",
       "      <th>5169</th>\n",
       "      <td>2023-05-19</td>\n",
       "      <td>474.224101</td>\n",
       "      <td>VALO.BA</td>\n",
       "      <td>97.800003</td>\n",
       "      <td>0.206232</td>\n",
       "    </tr>\n",
       "    <tr>\n",
       "      <th>5170</th>\n",
       "      <td>2023-05-19</td>\n",
       "      <td>474.224101</td>\n",
       "      <td>YPFD.BA</td>\n",
       "      <td>5334.299805</td>\n",
       "      <td>11.248479</td>\n",
       "    </tr>\n",
       "    <tr>\n",
       "      <th>5171</th>\n",
       "      <td>2023-05-19</td>\n",
       "      <td>474.224101</td>\n",
       "      <td>Index</td>\n",
       "      <td>242.000000</td>\n",
       "      <td>0.510307</td>\n",
       "    </tr>\n",
       "  </tbody>\n",
       "</table>\n",
       "</div>"
      ],
      "text/plain": [
       "           Date         USD   Ticker        Close  Close USD\n",
       "5167 2023-05-19  474.224101  TRAN.BA   304.500000   0.642101\n",
       "5168 2023-05-19  474.224101   TXR.BA  9776.500000  20.615781\n",
       "5169 2023-05-19  474.224101  VALO.BA    97.800003   0.206232\n",
       "5170 2023-05-19  474.224101  YPFD.BA  5334.299805  11.248479\n",
       "5171 2023-05-19  474.224101    Index   242.000000   0.510307"
      ]
     },
     "execution_count": 5,
     "metadata": {},
     "output_type": "execute_result"
    }
   ],
   "source": [
    "dataMerval = pd.DataFrame(pd.merge(histCCL, dataMerval, how='left', on=['Date'])).dropna() \n",
    "dataMerval ['Close USD'] = dataMerval['Close']/dataMerval['USD']\n",
    "\n",
    "dataMerval.tail()"
   ]
  },
  {
   "cell_type": "code",
   "execution_count": 6,
   "metadata": {},
   "outputs": [
    {
     "data": {
      "text/html": [
       "\n",
       "        <iframe\n",
       "            width=\"100%\"\n",
       "            height=\"650\"\n",
       "            src=\"http://127.0.0.1:8050/\"\n",
       "            frameborder=\"0\"\n",
       "            allowfullscreen\n",
       "            \n",
       "        ></iframe>\n",
       "        "
      ],
      "text/plain": [
       "<IPython.lib.display.IFrame at 0x1c0f5a7a790>"
      ]
     },
     "metadata": {},
     "output_type": "display_data"
    }
   ],
   "source": [
    "CCL = \"Fx Rate (CCL): \"+str(round(histCCL[\"USD\"].iloc[-1], ndigits=1))\n",
    "\n",
    "external_stylesheets = [dbc.themes.ZEPHYR]\n",
    "\n",
    "app = JupyterDash(__name__, external_stylesheets=external_stylesheets)\n",
    "app.title = \"Merval\"\n",
    "app.layout = html.Div([\n",
    "                        html.H1(\n",
    "                            \"Historical Data - S&P Merval\",\n",
    "                            style={'text-align': 'left', 'background-color':'#0466C8', 'color':'#EBEBEB', \"margin-bottom\": \"15px\" ,  \"padding\": \"10px\"}\n",
    "                            ),\n",
    "\n",
    "                        html.H2(\n",
    "                            CCL,\n",
    "                            style={'text-align': 'left', 'color':'#9B9C9B', \"margin-bottom\": \"15px\"}\n",
    "                            ),\n",
    "                        \n",
    "                        dbc.Row(\n",
    "                            [\n",
    "                                dbc.Col(\n",
    "                                    html.H3(\n",
    "                                    \"Select a ticker:\",\n",
    "                                    style={'text-align': 'left', 'color':'#9B9C9B', \"margin-bottom\": \"15px\"}\n",
    "                                    ),\n",
    "                                    width=\"auto\"),\n",
    "\n",
    "                                dbc.Col(\n",
    "                                    dcc.Dropdown(\n",
    "                                        id=\"Select_Ticker\",                    \n",
    "                                        options=[{'label': x, 'value': x} for x in fixedTickers],\n",
    "                                        multi=False,\n",
    "                                        value='M.BA',\n",
    "                                        style={'width': \"150%\", 'color': '#9B9C9B'}\n",
    "                                        ),\n",
    "                                    width=\"auto\"\n",
    "                                    )\n",
    "                            ],\n",
    "                        ),\n",
    "\n",
    "\n",
    "\n",
    "                        dbc.Row(\n",
    "                                [\n",
    "                                    dbc.Col(\n",
    "\n",
    "                                        dcc.Graph(id='lines_plot_USD',config={\"displayModeBar\": True}, figure={}),\n",
    "                                        width=\"auto\"),\n",
    "                                \n",
    "                                    dbc.Col(\n",
    "                                        dcc.Graph(id='lines_plot_ARP',config={\"displayModeBar\": True}, figure={}),\n",
    "                                        width=\"auto\"),\n",
    "                                ],\n",
    "                                justify=\"evenly\",\n",
    "                                ),\n",
    "                        ])\n",
    "                      \n",
    "                        \n",
    "@app.callback(\n",
    "    dash.dependencies.Output('lines_plot_USD', 'figure'),\n",
    "    dash.dependencies.Output('lines_plot_ARP', 'figure'),\n",
    "    [dash.dependencies.Input('Select_Ticker', 'value')])\n",
    "\n",
    "def update_output(value):\n",
    "    dff = dataMerval[dataMerval[\"Ticker\"] == value]\n",
    "\n",
    "    fig1 = {\n",
    "                                              \"data\": [\n",
    "                                                  {\n",
    "                                                      \"x\": dff[\"Date\"],\n",
    "                                                      \"y\": dff[\"Close USD\"],\n",
    "                                                      \"type\": \"lines\",\n",
    "                                                      \"hovertemplate\": \"$%{y:.1f}<extra></extra>\",\n",
    "                                                  },\n",
    "                                              ],\n",
    "                                              \"layout\": {\n",
    "                                                  \"title\": {\n",
    "                                                      \"text\": \"USD\",\n",
    "                                                      \"x\": 0.05,\n",
    "                                                      \"xanchor\": \"left\",\n",
    "                                                  },\n",
    "                                                  \"xaxis\": {\"fixedrange\": True},\n",
    "                                                  \"yaxis\": {\"tickprefix\": \"$\", \"fixedrange\": True},\n",
    "                                                  \"colorway\": [\"#007BBA\"],\n",
    "                                                  \"width\": 5,\n",
    "                                                  \"height\": 5,\n",
    "                                              },\n",
    "                                          }\n",
    "    fig2 = {\n",
    "                                              \"data\": [\n",
    "                                                  {\n",
    "                                                      \"x\": dff[\"Date\"],\n",
    "                                                      \"y\": dff[\"Close\"],\n",
    "                                                      \"type\": \"lines\",\n",
    "                                                      \"hovertemplate\": \"$%{y:.0f}<extra></extra>\",\n",
    "                                                  },\n",
    "                                              ],\n",
    "                                              \"layout\": {\n",
    "                                                  \"title\": {\n",
    "                                                      \"text\": \"ARS (Argentine Peso)\",\n",
    "                                                      \"x\": 0.05,\n",
    "                                                      \"xanchor\": \"left\",\n",
    "                                                  },\n",
    "                                                  \"xaxis\": {\"fixedrange\": True},\n",
    "                                                  \"yaxis\": {\"tickprefix\": \"$\", \"fixedrange\": True},\n",
    "                                                  \"colorway\": [\"#7CCDF4\"],\n",
    "                                                  \"width\": 5,\n",
    "                                                  \"height\": 5,\n",
    "                                              },\n",
    "                                          }    \n",
    "\n",
    "    return fig1, fig2\n",
    "                              \n",
    "              \n",
    "app.run_server(mode='inline')"
   ]
  }
 ],
 "metadata": {
  "kernelspec": {
   "display_name": "Python 3 (ipykernel)",
   "language": "python",
   "name": "python3"
  },
  "language_info": {
   "codemirror_mode": {
    "name": "ipython",
    "version": 3
   },
   "file_extension": ".py",
   "mimetype": "text/x-python",
   "name": "python",
   "nbconvert_exporter": "python",
   "pygments_lexer": "ipython3",
   "version": "3.9.13"
  },
  "vscode": {
   "interpreter": {
    "hash": "3e527a931089926cd2685ad75ed975e609e06aacd35f04f2ac80b47577a53170"
   }
  }
 },
 "nbformat": 4,
 "nbformat_minor": 2
}
